{
 "cells": [
  {
   "cell_type": "code",
   "execution_count": 1,
   "metadata": {},
   "outputs": [],
   "source": [
    "import numpy as np\n",
    "import pandas as pd"
   ]
  },
  {
   "cell_type": "code",
   "execution_count": 4,
   "metadata": {},
   "outputs": [],
   "source": [
    "def get_data():\n",
    "  df = pd.read_csv(\"C:/Users/TANNERU/Downloads/Dataset for coding/ecommerce_data.csv\")\n",
    "\n",
    "  # easier to work with numpy array\n",
    "  data = df.values\n",
    "\n",
    "  # shuffle it\n",
    "  np.random.shuffle(data)\n",
    "\n",
    "  # split features and labels\n",
    "  X = data[:,:-1]\n",
    "  Y = data[:,-1].astype(np.int32)\n",
    "  \n",
    "  print(X.shape)\n",
    "  print(Y.shape)\n",
    "\n",
    "  # one-hot encode the categorical data\n",
    "  # create a new matrix X2 with the correct number of columns\n",
    "  N, D = X.shape\n",
    "  X2 = np.zeros((N, D+3))\n",
    "  print(X2.shape)\n",
    "  X2[:,0:(D-1)] = X[:,0:(D-1)] # non-categorical\n",
    "\n",
    "  # one-hot\n",
    "  for n in range(N):\n",
    "      t = int(X[n,D-1])\n",
    "      X2[n,t+D-1] = 1\n",
    "\n",
    "\n",
    "  # assign X2 back to X, since we don't need original anymore\n",
    "  X = X2\n",
    "  print(X.shape)\n",
    "\n",
    "  # split train and test\n",
    "  Xtrain = X[:-100]\n",
    "  Ytrain = Y[:-100]\n",
    "  Xtest = X[-100:]\n",
    "  Ytest = Y[-100:]\n",
    "\n",
    "  # normalize columns 1 and 2\n",
    "  for i in (1, 2):\n",
    "    m = Xtrain[:,i].mean()\n",
    "    s = Xtrain[:,i].std()\n",
    "    Xtrain[:,i] = (Xtrain[:,i] - m) / s\n",
    "    Xtest[:,i] = (Xtest[:,i] - m) / s\n",
    "\n",
    "  return Xtrain, Ytrain, Xtest, Ytest\n",
    "\n",
    "\n",
    "def get_binary_data():\n",
    "  # return only the data from the first 2 classes\n",
    "  Xtrain, Ytrain, Xtest, Ytest = get_data()\n",
    "  X2train = Xtrain[Ytrain <= 1]\n",
    "  Y2train = Ytrain[Ytrain <= 1]\n",
    "  X2test = Xtest[Ytest <= 1]\n",
    "  Y2test = Ytest[Ytest <= 1]\n",
    "  return X2train, Y2train, X2test, Y2test\n"
   ]
  },
  {
   "cell_type": "code",
   "execution_count": 6,
   "metadata": {},
   "outputs": [
    {
     "name": "stdout",
     "output_type": "stream",
     "text": [
      "(500, 5)\n",
      "(500,)\n",
      "(500, 8)\n",
      "(500, 8)\n",
      "Xtrain (400, 8)\n",
      "Xtest (100, 8)\n",
      "Ytrain (400,)\n",
      "Ytest (100,)\n"
     ]
    }
   ],
   "source": [
    "#Multi-layer perceptron\n",
    "from sklearn.neural_network import MLPClassifier\n",
    "from sklearn.utils import shuffle\n",
    "\n",
    "Xtrain,Ytrain,Xtest,Ytest = get_data()\n",
    "print(\"Xtrain\",Xtrain.shape)\n",
    "print(\"Xtest\",Xtest.shape)\n",
    "print(\"Ytrain\",Ytrain.shape)\n",
    "print(\"Ytest\",Ytest.shape)\n",
    "\n"
   ]
  },
  {
   "cell_type": "code",
   "execution_count": 8,
   "metadata": {},
   "outputs": [
    {
     "name": "stdout",
     "output_type": "stream",
     "text": [
      "MLPClassifier(activation='relu', alpha=0.0001, batch_size='auto', beta_1=0.9,\n",
      "              beta_2=0.999, early_stopping=False, epsilon=1e-08,\n",
      "              hidden_layer_sizes=(20, 20), learning_rate='constant',\n",
      "              learning_rate_init=0.001, max_fun=15000, max_iter=2000,\n",
      "              momentum=0.9, n_iter_no_change=10, nesterovs_momentum=True,\n",
      "              power_t=0.5, random_state=None, shuffle=True, solver='adam',\n",
      "              tol=0.0001, validation_fraction=0.1, verbose=False,\n",
      "              warm_start=False)\n"
     ]
    }
   ],
   "source": [
    "model = MLPClassifier(hidden_layer_sizes = (20,20),max_iter = 2000)\n",
    "print(model)"
   ]
  },
  {
   "cell_type": "code",
   "execution_count": 9,
   "metadata": {},
   "outputs": [
    {
     "data": {
      "text/plain": [
       "MLPClassifier(activation='relu', alpha=0.0001, batch_size='auto', beta_1=0.9,\n",
       "              beta_2=0.999, early_stopping=False, epsilon=1e-08,\n",
       "              hidden_layer_sizes=(20, 20), learning_rate='constant',\n",
       "              learning_rate_init=0.001, max_fun=15000, max_iter=2000,\n",
       "              momentum=0.9, n_iter_no_change=10, nesterovs_momentum=True,\n",
       "              power_t=0.5, random_state=None, shuffle=True, solver='adam',\n",
       "              tol=0.0001, validation_fraction=0.1, verbose=False,\n",
       "              warm_start=False)"
      ]
     },
     "execution_count": 9,
     "metadata": {},
     "output_type": "execute_result"
    }
   ],
   "source": [
    "model.fit(Xtrain,Ytrain)\n"
   ]
  },
  {
   "cell_type": "code",
   "execution_count": 10,
   "metadata": {},
   "outputs": [
    {
     "name": "stdout",
     "output_type": "stream",
     "text": [
      "training Accuracy 1.0\n",
      "testing accuracy 0.92\n"
     ]
    }
   ],
   "source": [
    "train_score = model.score(Xtrain,Ytrain)\n",
    "test_score = model.score(Xtest,Ytest)\n",
    "print(\"training Accuracy\",train_score)\n",
    "print(\"testing accuracy\",test_score)"
   ]
  },
  {
   "cell_type": "code",
   "execution_count": null,
   "metadata": {},
   "outputs": [],
   "source": []
  }
 ],
 "metadata": {
  "kernelspec": {
   "display_name": "Python 3",
   "language": "python",
   "name": "python3"
  },
  "language_info": {
   "codemirror_mode": {
    "name": "ipython",
    "version": 3
   },
   "file_extension": ".py",
   "mimetype": "text/x-python",
   "name": "python",
   "nbconvert_exporter": "python",
   "pygments_lexer": "ipython3",
   "version": "3.7.6"
  }
 },
 "nbformat": 4,
 "nbformat_minor": 4
}
